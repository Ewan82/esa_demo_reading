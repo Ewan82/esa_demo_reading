{
 "cells": [
  {
   "cell_type": "markdown",
   "metadata": {
    "deletable": true,
    "editable": true
   },
   "source": [
    "# Example use of the Signature Simulator\n",
    "In this demo we will begin by using the Signature Simulator to forward model some Sentinel 1 and 2 backscatters and reflectances. We will then show the Retreival Tool which inverts the Signature Simulator to produce some estimates of Leaf Area Index (LAI), soil moisture and canopy height for a set of fields near Munich, Germany.\n",
    "## Example 1 - Calculating reflectance and backscatter values for a single aquisition\n",
    "In this example we will simulate Sentinel 2 reflectance values and Sentinel 1 backscatter values for a given satellite geometry and land surface state. From an interactive console we first import the signaturesimulator package and setup an instance of the Simulator class:"
   ]
  },
  {
   "cell_type": "code",
   "execution_count": 1,
   "metadata": {
    "collapsed": false,
    "deletable": true,
    "editable": true
   },
   "outputs": [],
   "source": [
    "import signaturesimulator as ss\n",
    "sim = ss.Simulator()"
   ]
  },
  {
   "cell_type": "markdown",
   "metadata": {
    "deletable": true,
    "editable": true
   },
   "source": [
    "We can now set the viewing geometries and time of the satellite observation, to do this we also need to specify a Python datetime object so we will also import the datetime module:"
   ]
  },
  {
   "cell_type": "code",
   "execution_count": 2,
   "metadata": {
    "collapsed": true,
    "deletable": true,
    "editable": true
   },
   "outputs": [],
   "source": [
    "import datetime as dt\n",
    "sim.get_geom = sim.geom_default(date_utc=dt.datetime(2016,6,17,10,25), vza=5.5, vaa=286.3, sza=26.8, saa=157.0)"
   ]
  },
  {
   "cell_type": "markdown",
   "metadata": {
    "deletable": true,
    "editable": true
   },
   "source": [
    "Where vza and vaa are the view zenith and azimuth angles and sza and saa are the solar zenith and azimuth angles. We must now specify the land surface state variables for which to calculate Sentinel 2 reflectance values:"
   ]
  },
  {
   "cell_type": "code",
   "execution_count": 3,
   "metadata": {
    "collapsed": true,
    "deletable": true,
    "editable": true
   },
   "outputs": [],
   "source": [
    "sim.get_land_state = sim.state_default(date_utc=dt.datetime(2016,6,17,9,0), lai=3.0, canopy_ht=1.0, soil_m=0.3)"
   ]
  },
  {
   "cell_type": "markdown",
   "metadata": {
    "deletable": true,
    "editable": true
   },
   "source": [
    "Where lai is leaf are index (m$^2$ m$^{-2}$), canpopy_ht is vegetation canopy height (m) and soil_m is the top layer soil moisture (m$^3$ m$^{-3}$). We now specify the radiative transfer model we want to use and then run the simulator (currently there is the choice between active microwave and passive optical with these models being setup for the Sentinel 1 and 2 missions respectively). Here we are interested in reflectance, so set the following:"
   ]
  },
  {
   "cell_type": "code",
   "execution_count": 4,
   "metadata": {
    "collapsed": false,
    "deletable": true,
    "editable": true
   },
   "outputs": [],
   "source": [
    "sim.run_rt = sim.passive_optical\n",
    "sim.run()"
   ]
  },
  {
   "cell_type": "markdown",
   "metadata": {
    "deletable": true,
    "editable": true
   },
   "source": [
    "Once the simulator has finished its run it will write the output to a new spectra class. We can then look at the reflectance values for different bands (ordered by wavelength) using the following command:"
   ]
  },
  {
   "cell_type": "code",
   "execution_count": 5,
   "metadata": {
    "collapsed": false,
    "deletable": true,
    "editable": true
   },
   "outputs": [
    {
     "data": {
      "text/plain": [
       "[array([0.019123, 0.019416, 0.025017, 0.01675 , 0.032494, 0.255736,\n",
       "        0.472807, 0.48074 , 0.488415, 0.467033, 0.242228, 0.18575 ,\n",
       "        0.071287])]"
      ]
     },
     "execution_count": 5,
     "metadata": {},
     "output_type": "execute_result"
    }
   ],
   "source": [
    "sim.spectra.refl"
   ]
  },
  {
   "cell_type": "markdown",
   "metadata": {
    "collapsed": true,
    "deletable": true,
    "editable": true
   },
   "source": [
    "## Example of calculating backscatter for multiple aquisitions\n",
    "Using the Simulator instance specified in the previous example we show how we can run the simulator for multiple aquisitions. First we specify the dates and view geometries of our observations using a csv file:\n",
    "\n"
   ]
  },
  {
   "cell_type": "code",
   "execution_count": 6,
   "metadata": {
    "collapsed": true,
    "deletable": true,
    "editable": true
   },
   "outputs": [],
   "source": [
    "sim = ss.Simulator()\n",
    "sim.get_geom = sim.geom_csv(fname=sim.example_s1_geometries)"
   ]
  },
  {
   "cell_type": "markdown",
   "metadata": {
    "deletable": true,
    "editable": true
   },
   "source": [
    "Here sim.example_s1_geometries points to an example csv file included with the signaturesimulator package found here:\n",
    "\n",
    "`\n",
    "$PYTHONPATH/signaturesimulator/data/geometries/s1_example_const.csv\n",
    "`\n",
    "\n",
    "Any geometry csv file must be of the following format:\n",
    "\n",
    "```\n",
    "# date, vza, vaa, sza, saa\n",
    "2016/01/03 05:23,34.3773946043,100.545700717,105.298744327,107.406448412\n",
    "2016/01/08 05:31,23.4284120953,102.103838392,103.928256857,108.076934788\n",
    "...\n",
    "```\n",
    "We next specify the dates and values for our land surface state variables using a csv file:"
   ]
  },
  {
   "cell_type": "code",
   "execution_count": 7,
   "metadata": {
    "collapsed": true,
    "deletable": true,
    "editable": true
   },
   "outputs": [],
   "source": [
    "sim.get_land_state = sim.state_csv(fname=sim.example_state_variables)"
   ]
  },
  {
   "cell_type": "markdown",
   "metadata": {
    "deletable": true,
    "editable": true
   },
   "source": [
    "Again we are using an example csv file packaged with the simulator, for the land state csv files must follow the format:\n",
    "```\n",
    "# date, lai (m2 m-2), canopy_height (m), soil_moisture (m3 m-3)\n",
    "2016/01/01 12:00,0.001,0.001,0.339560508728\n",
    "2016/01/02 12:00,0.001,0.001,0.341959953308\n",
    "...\n",
    "```\n",
    "We can now set the radiative transfer model we wish to use and run the simulator:"
   ]
  },
  {
   "cell_type": "code",
   "execution_count": 8,
   "metadata": {
    "collapsed": true,
    "deletable": true,
    "editable": true
   },
   "outputs": [],
   "source": [
    "sim.run_rt = sim.active_microwave\n",
    "sim.run()"
   ]
  },
  {
   "cell_type": "markdown",
   "metadata": {
    "deletable": true,
    "editable": true
   },
   "source": [
    "Once the simulator has finished its run it will write the output to a new backscat class instance. We can see the output variables available to us using:"
   ]
  },
  {
   "cell_type": "code",
   "execution_count": 9,
   "metadata": {
    "collapsed": false,
    "deletable": true,
    "editable": true
   },
   "outputs": [
    {
     "data": {
      "text/plain": [
       "['lai',\n",
       " 'date_sat_ob',\n",
       " 'soil_moisture',\n",
       " 'hv',\n",
       " 'can_height',\n",
       " 'date_land_ob',\n",
       " 'hh',\n",
       " 'vv']"
      ]
     },
     "execution_count": 9,
     "metadata": {},
     "output_type": "execute_result"
    }
   ],
   "source": [
    "sim.output_variables"
   ]
  },
  {
   "cell_type": "markdown",
   "metadata": {
    "deletable": true,
    "editable": true
   },
   "source": [
    "To plot the backscatter in the hv polaristation we can use the following command:"
   ]
  },
  {
   "cell_type": "code",
   "execution_count": 16,
   "metadata": {
    "collapsed": false,
    "deletable": true,
    "editable": true
   },
   "outputs": [
    {
     "data": {
      "image/png": "[encoded data removed]",
      "text/plain": [
       "<Figure size 432x288 with 1 Axes>"
      ]
     },
     "metadata": {},
     "output_type": "display_data"
    }
   ],
   "source": [
    "import matplotlib.pyplot as plt\n",
    "%matplotlib inline\n",
    "sim.plot('hv')\n",
    "plt.show()\n"
   ]
  },
  {
   "cell_type": "markdown",
   "metadata": {
    "deletable": true,
    "editable": true
   },
   "source": [
    "We can plot any of the output variables using the plot method of the Simulator class, for LAI:"
   ]
  },
  {
   "cell_type": "code",
   "execution_count": 15,
   "metadata": {
    "collapsed": false,
    "deletable": true,
    "editable": true,
    "scrolled": true
   },
   "outputs": [
    {
     "data": {
      "image/png": "[encoded data removed]",
      "text/plain": [
       "<Figure size 432x288 with 1 Axes>"
      ]
     },
     "metadata": {},
     "output_type": "display_data"
    }
   ],
   "source": [
    "sim.plot('lai')\n",
    "plt.show()"
   ]
  },
  {
   "cell_type": "markdown",
   "metadata": {
    "deletable": true,
    "editable": true
   },
   "source": [
    "Here we can see the effect that leaf area index is having on the simulated observations of backscatter."
   ]
  },
  {
   "cell_type": "markdown",
   "metadata": {
    "collapsed": true,
    "deletable": true,
    "editable": true
   },
   "source": [
    "## Using JULES to construct estimates to Sentinel 1 and Sentinel 2 observations\n",
    "JULES models the evolution of the land surface given some meteorological forcing data\n",
    "![JULES land surface model](jules.png)\n",
    "Next we show how to take the output of the JULES land surface model and forward model Sentinel 1 backscatters and Sentinel 2 reflectances. Any choice of land surface model could be applied here, these estimates are used as priors in the retrieval tool algorithm."
   ]
  },
  {
   "cell_type": "code",
   "execution_count": 17,
   "metadata": {
    "collapsed": false,
    "deletable": true,
    "editable": true
   },
   "outputs": [],
   "source": [
    "import signaturesimulator as ss\n",
    "sim_90 = ss.Simulator()\n",
    "sim_90.get_geom = sim_90.geom_csv(fname=sim_90.example_s2_geometries)\n",
    "sim_90.get_land_state = sim_90.state_jules(sim_90.dir_path+'/data/jules/output/jules_90.daily.nc')\n",
    "sim_90.run_rt = sim_90.passive_optical\n",
    "sim_90.run()"
   ]
  },
  {
   "cell_type": "markdown",
   "metadata": {
    "deletable": true,
    "editable": true
   },
   "source": [
    "The output of the JULES model is a netCDF file containing outputed variables specified in the output.nml file in the directory from which JULES has been run. The `state_jules` function of the Simulator class reads the JULES output and extracts the variables required to forward model reflectance and backscatter. Lets look at one of the reflectance bands of Sentinel 2 and then the LAI profile of the crop modelled by JULES."
   ]
  },
  {
   "cell_type": "code",
   "execution_count": 18,
   "metadata": {
    "collapsed": false,
    "deletable": true,
    "editable": true
   },
   "outputs": [
    {
     "data": {
      "image/png": "[encoded data removed]",
      "text/plain": [
       "<Figure size 432x288 with 1 Axes>"
      ]
     },
     "metadata": {},
     "output_type": "display_data"
    },
    {
     "data": {
      "text/plain": [
       "['lai', 'date_sat_ob', 'soil_moisture', 'date_land_ob', 'can_height', 'refl']"
      ]
     },
     "execution_count": 18,
     "metadata": {},
     "output_type": "execute_result"
    }
   ],
   "source": [
    "import matplotlib.pyplot as plt\n",
    "sim_90.plot('refl', band_idx=4)\n",
    "plt.show()\n",
    "sim_90.output_variables"
   ]
  },
  {
   "cell_type": "code",
   "execution_count": 19,
   "metadata": {
    "collapsed": false,
    "deletable": true,
    "editable": true
   },
   "outputs": [
    {
     "data": {
      "image/png": "[encoded data removed]",
      "text/plain": [
       "<Figure size 432x288 with 1 Axes>"
      ]
     },
     "metadata": {},
     "output_type": "display_data"
    }
   ],
   "source": [
    "sim_90.plot('lai')\n",
    "plt.show()"
   ]
  },
  {
   "cell_type": "markdown",
   "metadata": {
    "deletable": true,
    "editable": true
   },
   "source": [
    "We can also look at the Normalised Difference Vegetation Index (NDVI) of the crop by plotting a combination of the simulated Satellite reflectance bands (bands 4 and 8)."
   ]
  },
  {
   "cell_type": "code",
   "execution_count": 20,
   "metadata": {
    "collapsed": false,
    "deletable": true,
    "editable": true
   },
   "outputs": [
    {
     "data": {
      "image/png": "[encoded data removed]",
      "text/plain": [
       "<Figure size 432x288 with 1 Axes>"
      ]
     },
     "metadata": {},
     "output_type": "display_data"
    }
   ],
   "source": [
    "import numpy as np\n",
    "\n",
    "refl_90 = np.array(sim_90.spectra.refl)\n",
    "ndvi_90 = (refl_90[:, 7]-refl_90[:, 3])/(refl_90[:, 7]+refl_90[:, 3]) # calculate NDVI for crop sown on 90th day of year\n",
    "plt.plot(sim_90.get_geom.date_utc, ndvi_90, 'o-')\n",
    "plt.ylabel('NDVI')\n",
    "plt.xlabel('Date')\n",
    "plt.show()"
   ]
  },
  {
   "cell_type": "markdown",
   "metadata": {
    "deletable": true,
    "editable": true
   },
   "source": [
    "In this example we are modelling maize with JULES (there are 3 other default crops and 5 other PFTs in JULES). We can see the effect that the LAI of the crop is having on the reflectance.\n",
    "\n",
    "JULES has many different parameters controlling the behaviour of the model, we can vary these to get different estimates of the land surface state and different estimates to the reflectance and backscatter seen by Sentinel 2 and Sentinel 1. For example if we change the crop sow date for maize to day 110 of the year from our original model run of day 90 of the year we find the following update to the LAI of the crop"
   ]
  },
  {
   "cell_type": "code",
   "execution_count": 24,
   "metadata": {
    "collapsed": false,
    "deletable": true,
    "editable": true
   },
   "outputs": [],
   "source": [
    "sim_110 = ss.Simulator()\n",
    "sim_110.get_geom = sim_110.geom_csv(fname=sim_110.example_s2_geometries)\n",
    "sim_110.get_land_state = sim_110.state_jules(sim_110.dir_path+'/data/jules/output/jules_110.daily.nc')\n",
    "sim_110.run_rt = sim_110.passive_optical\n",
    "sim_110.run()"
   ]
  },
  {
   "cell_type": "code",
   "execution_count": 25,
   "metadata": {
    "collapsed": false,
    "deletable": true,
    "editable": true,
    "scrolled": true
   },
   "outputs": [
    {
     "data": {
      "image/png": "[encoded data removed]",
      "text/plain": [
       "<Figure size 432x288 with 1 Axes>"
      ]
     },
     "metadata": {},
     "output_type": "display_data"
    }
   ],
   "source": [
    "sim_110.plot('lai',)\n",
    "sim_90.plot('lai',)\n",
    "plt.show()"
   ]
  },
  {
   "cell_type": "code",
   "execution_count": 26,
   "metadata": {
    "collapsed": false,
    "deletable": true,
    "editable": true
   },
   "outputs": [
    {
     "data": {
      "image/png": "[encoded data removed]",
      "text/plain": [
       "<Figure size 432x288 with 1 Axes>"
      ]
     },
     "metadata": {},
     "output_type": "display_data"
    }
   ],
   "source": [
    "sim_110.plot('refl', band_idx=5)\n",
    "sim_90.plot('refl', band_idx=5)\n",
    "plt.show()"
   ]
  },
  {
   "cell_type": "code",
   "execution_count": 27,
   "metadata": {
    "collapsed": false,
    "deletable": true,
    "editable": true
   },
   "outputs": [
    {
     "data": {
      "image/png": "[encoded data removed]",
      "text/plain": [
       "<Figure size 432x288 with 1 Axes>"
      ]
     },
     "metadata": {},
     "output_type": "display_data"
    }
   ],
   "source": [
    "import numpy as np\n",
    "\n",
    "refl_90 = np.array(sim_90.spectra.refl)\n",
    "ndvi_90 = (refl_90[:, 7]-refl_90[:, 3])/(refl_90[:, 7]+refl_90[:, 3]) # calculate NDVI for crop sown on 90th day of year\n",
    "plt.plot(sim_90.get_geom.date_utc, ndvi_90, 'o-')\n",
    "\n",
    "refl_110 = np.array(sim_110.spectra.refl)\n",
    "ndvi_110 = (refl_110[:, 7]-refl_110[:, 3])/(refl_110[:, 7]+refl_110[:, 3]) # calculate NDVI for crop sown on 110th day of year\n",
    "plt.plot(sim_110.get_geom.date_utc, ndvi_110, 'X-')\n",
    "\n",
    "plt.ylabel('NDVI')\n",
    "plt.xlabel('Date')\n",
    "plt.show()"
   ]
  },
  {
   "cell_type": "code",
   "execution_count": null,
   "metadata": {
    "collapsed": true,
    "deletable": true,
    "editable": true
   },
   "outputs": [],
   "source": []
  }
 ],
 "metadata": {
  "kernelspec": {
   "display_name": "Python 2",
   "language": "python",
   "name": "python2"
  },
  "language_info": {
   "codemirror_mode": {
    "name": "ipython",
    "version": 2
   },
   "file_extension": ".py",
   "mimetype": "text/x-python",
   "name": "python",
   "nbconvert_exporter": "python",
   "pygments_lexer": "ipython2",
   "version": "2.7.13"
  }
 },
 "nbformat": 4,
 "nbformat_minor": 0
}
